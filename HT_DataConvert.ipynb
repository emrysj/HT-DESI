{
 "cells": [
  {
   "cell_type": "code",
   "execution_count": 62,
   "id": "7a32b468-2f3c-402c-97c3-ab091df0da72",
   "metadata": {},
   "outputs": [],
   "source": [
    "from time import sleep\n",
    "import pandas as pd\n",
    "import subprocess\n",
    "import csv\n",
    "\n",
    "mainPath = r\"C:/HDI/lib\"\n",
    "import os, sys\n",
    "bits=\"64bit\" if sys.maxsize > 2**32 else \"32bit\"\n",
    "# load the appropriate version of the library.  Change to point to local library location as appropriate.\n",
    "libpath=\"C:/Python Scripts/watersimgreaderpy/\" + bits\n",
    "os.chdir(libpath)\n",
    "import WatersIMGReader as wat \n",
    "from ctypes import *\n",
    "import numpy as np\n",
    "reader = cdll.LoadLibrary(\"C:/Python Scripts/watersimgreaderpy/64bit/watersimgreader.dll\") # This will need to change \n",
    "\n"
   ]
  },
  {
   "cell_type": "code",
   "execution_count": 142,
   "id": "34fec923-2780-4d88-9e96-d437f7bfca00",
   "metadata": {},
   "outputs": [],
   "source": [
    "rawdata = '2024_test_test_0012.raw'\n",
    "datadir = 'C:/HDI/data/'\n",
    "outdata = rawdata[0:-4]\n",
    "outdir = datadir + 'outputs/'\n",
    "csvoutdir = datadir + 'CSVoutputs/'"
   ]
  },
  {
   "cell_type": "code",
   "execution_count": 152,
   "id": "ada38981-0812-4dde-af73-86847118a711",
   "metadata": {},
   "outputs": [],
   "source": [
    "fulldata = datadir + rawdata\n",
    "fulloutdata = outdir + outdata\n",
    "fulloutCSVdata = csvoutdir + outdata"
   ]
  },
  {
   "cell_type": "code",
   "execution_count": 153,
   "id": "41f7a13a-caf0-42c3-9f7b-f9e13677739d",
   "metadata": {},
   "outputs": [],
   "source": [
    "os.makedirs(outdir, exist_ok=True) \n",
    "os.makedirs(csvoutdir, exist_ok=True)"
   ]
  },
  {
   "cell_type": "code",
   "execution_count": 137,
   "id": "e548e297-72d1-4f0b-8afd-cf69916dc173",
   "metadata": {},
   "outputs": [
    {
     "name": "stdout",
     "output_type": "stream",
     "text": [
      "10\n"
     ]
    }
   ],
   "source": [
    "WellList=['A01','A02','A03','A04','A05','A06','B01','B02','B03','B04']\n",
    "print(len(WellList))"
   ]
  },
  {
   "cell_type": "code",
   "execution_count": 70,
   "id": "25553f89-64a4-4db1-9edd-cb38d400c33f",
   "metadata": {},
   "outputs": [],
   "source": [
    "def create_series_file(start, end, filename=\"C:/HDI/lib/outputScans.txt\"):\n",
    "    with open(filename, \"w\") as file:\n",
    "        for i in range(start, end + 1):\n",
    "            file.write(f\"1\\t{i}\\n\")"
   ]
  },
  {
   "cell_type": "code",
   "execution_count": 154,
   "id": "05e53b6a-3e0a-4175-b243-9ccbc5309dff",
   "metadata": {},
   "outputs": [],
   "source": [
    "def create96_well_process(Rwell):\n",
    "    prog = 'C:/HDI/lib/maldichrom.exe'\n",
    "    raw_in = fulldata\n",
    "    raw_out = f'{fulloutdata}_{Rwell}.raw'\n",
    "    scans = 'C:/HDI/lib/outputScans.txt'\n",
    "    command = f'{prog} -d \"{raw_in}\" -p \"{scans}\" -w \"{raw_out}\"'\n",
    "    subprocess.Popen(command,cwd=mainPath,shell=True)"
   ]
  },
  {
   "cell_type": "code",
   "execution_count": 155,
   "id": "419586ca-94db-413a-8bff-aaa1a18f2fd1",
   "metadata": {},
   "outputs": [],
   "source": [
    "def raw_to_csv(Rwell):\n",
    "    reader=wat.WatersIMGReader(f'{fulloutdata}_{Rwell}.raw',1)\n",
    "    masses, intens, npoints = reader.getCombinedScans(1,1,0,0)\n",
    "    with open(f'{fulloutCSVdata}_{Rwell}.csv', 'w', newline='') as csvfile:\n",
    "        writer = csv.writer(csvfile)\n",
    "        for i in range(len(masses)):\n",
    "            writer.writerow([masses[i], intens[i]])\n",
    "    "
   ]
  },
  {
   "cell_type": "code",
   "execution_count": 93,
   "id": "4261bd92-1ed7-4f43-99a0-140d7d7dc744",
   "metadata": {},
   "outputs": [
    {
     "name": "stdout",
     "output_type": "stream",
     "text": [
      "Data contains: 100 scans\n",
      "Mass range: 50.0 to 1200.0\n"
     ]
    }
   ],
   "source": [
    "try:\n",
    "    reader=wat.WatersIMGReader(fulldata,1)\n",
    "    \n",
    "    scans = reader.getTotalScans()\n",
    "    print(\"Data contains: \" + str(scans) + \" scans\")\n",
    "    \n",
    "    massRange = reader.getMassRange()\n",
    "    print(\"Mass range: \" + str(massRange[0]) + \" to \" + str(massRange[1]))\n",
    "  \n",
    "       \n",
    "except NameError as err:\n",
    "    print(err)"
   ]
  },
  {
   "cell_type": "code",
   "execution_count": 94,
   "id": "ec8c945c-0d27-45e9-80e5-8f7810be949b",
   "metadata": {},
   "outputs": [
    {
     "name": "stdout",
     "output_type": "stream",
     "text": [
      "10\n"
     ]
    }
   ],
   "source": [
    "# get X,Y coordinates from the data\n",
    "X,Y,points = reader.getXYCoordinates()\n",
    "Ynp=np.array(Y)\n",
    "ScanR=np.arange(scans)+1\n",
    "Number_of_wells = len(np.unique(Ynp))\n",
    "print(Number_of_wells)\n",
    "\n",
    "len1, len2 = len(ScanR), len(Ynp)\n",
    "if len2 < len1:\n",
    "    padding = np.full(len1-len2,Ynp[-1])\n",
    "    Ynp2=np.concatenate([Ynp,padding])"
   ]
  },
  {
   "cell_type": "code",
   "execution_count": 158,
   "id": "4147fbb5-342d-493a-bffb-d4374bf1c049",
   "metadata": {},
   "outputs": [
    {
     "name": "stdout",
     "output_type": "stream",
     "text": [
      "0\n",
      "1\n",
      "2\n",
      "3\n",
      "4\n",
      "5\n",
      "6\n",
      "7\n",
      "8\n",
      "9\n"
     ]
    }
   ],
   "source": [
    "for x in range(Number_of_wells):\n",
    "    Rwell = WellList[x]\n",
    "    Data=np.column_stack((ScanR,Ynp2))\n",
    "    Output=Data[np.where(Data[:,1]==x),0]\n",
    "    start = int(Output[0,0])\n",
    "    end = int(Output[0,-1])\n",
    "    create_series_file(start, end)\n",
    "    create96_well_process(Rwell)\n",
    "    sleep(0.5)\n",
    "    raw_to_csv(Rwell)\n",
    "    # Read the Well ID (if available)\n",
    "    # Write the new raw files\n",
    "    # Write to the csv file - this will be read by the next app. \n",
    "    print(x)"
   ]
  },
  {
   "cell_type": "code",
   "execution_count": 115,
   "id": "d4d73859-f373-4e66-873b-48e17ce9904c",
   "metadata": {},
   "outputs": [],
   "source": [
    "    "
   ]
  },
  {
   "cell_type": "code",
   "execution_count": null,
   "id": "640e83c2-06fa-44fb-a90d-2dd7eae41058",
   "metadata": {},
   "outputs": [],
   "source": []
  }
 ],
 "metadata": {
  "kernelspec": {
   "display_name": "Python 3 (ipykernel)",
   "language": "python",
   "name": "python3"
  },
  "language_info": {
   "codemirror_mode": {
    "name": "ipython",
    "version": 3
   },
   "file_extension": ".py",
   "mimetype": "text/x-python",
   "name": "python",
   "nbconvert_exporter": "python",
   "pygments_lexer": "ipython3",
   "version": "3.12.4"
  }
 },
 "nbformat": 4,
 "nbformat_minor": 5
}
